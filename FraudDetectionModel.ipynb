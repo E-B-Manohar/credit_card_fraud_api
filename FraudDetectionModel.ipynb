{
 "cells": [
  {
   "cell_type": "code",
   "execution_count": 1,
   "metadata": {},
   "outputs": [],
   "source": [
    "import pandas as pd\n",
    "import numpy as np\n",
    "import matplotlib.pyplot as plt\n",
    "import seaborn as sns\n",
    "from sklearn.ensemble import RandomForestClassifier\n",
    "from sklearn.model_selection import train_test_split,KFold"
   ]
  },
  {
   "cell_type": "code",
   "execution_count": 2,
   "metadata": {},
   "outputs": [
    {
     "data": {
      "text/html": [
       "<div>\n",
       "<style scoped>\n",
       "    .dataframe tbody tr th:only-of-type {\n",
       "        vertical-align: middle;\n",
       "    }\n",
       "\n",
       "    .dataframe tbody tr th {\n",
       "        vertical-align: top;\n",
       "    }\n",
       "\n",
       "    .dataframe thead th {\n",
       "        text-align: right;\n",
       "    }\n",
       "</style>\n",
       "<table border=\"1\" class=\"dataframe\">\n",
       "  <thead>\n",
       "    <tr style=\"text-align: right;\">\n",
       "      <th></th>\n",
       "      <th>count</th>\n",
       "      <th>mean</th>\n",
       "      <th>std</th>\n",
       "      <th>min</th>\n",
       "      <th>25%</th>\n",
       "      <th>50%</th>\n",
       "      <th>75%</th>\n",
       "      <th>max</th>\n",
       "    </tr>\n",
       "  </thead>\n",
       "  <tbody>\n",
       "    <tr>\n",
       "      <th>Time</th>\n",
       "      <td>284807.0</td>\n",
       "      <td>9.481386e+04</td>\n",
       "      <td>47488.145955</td>\n",
       "      <td>0.000000</td>\n",
       "      <td>54201.500000</td>\n",
       "      <td>84692.000000</td>\n",
       "      <td>139320.500000</td>\n",
       "      <td>172792.000000</td>\n",
       "    </tr>\n",
       "    <tr>\n",
       "      <th>V1</th>\n",
       "      <td>284807.0</td>\n",
       "      <td>3.919560e-15</td>\n",
       "      <td>1.958696</td>\n",
       "      <td>-56.407510</td>\n",
       "      <td>-0.920373</td>\n",
       "      <td>0.018109</td>\n",
       "      <td>1.315642</td>\n",
       "      <td>2.454930</td>\n",
       "    </tr>\n",
       "    <tr>\n",
       "      <th>V2</th>\n",
       "      <td>284807.0</td>\n",
       "      <td>5.688174e-16</td>\n",
       "      <td>1.651309</td>\n",
       "      <td>-72.715728</td>\n",
       "      <td>-0.598550</td>\n",
       "      <td>0.065486</td>\n",
       "      <td>0.803724</td>\n",
       "      <td>22.057729</td>\n",
       "    </tr>\n",
       "    <tr>\n",
       "      <th>V3</th>\n",
       "      <td>284807.0</td>\n",
       "      <td>-8.769071e-15</td>\n",
       "      <td>1.516255</td>\n",
       "      <td>-48.325589</td>\n",
       "      <td>-0.890365</td>\n",
       "      <td>0.179846</td>\n",
       "      <td>1.027196</td>\n",
       "      <td>9.382558</td>\n",
       "    </tr>\n",
       "    <tr>\n",
       "      <th>V4</th>\n",
       "      <td>284807.0</td>\n",
       "      <td>2.782312e-15</td>\n",
       "      <td>1.415869</td>\n",
       "      <td>-5.683171</td>\n",
       "      <td>-0.848640</td>\n",
       "      <td>-0.019847</td>\n",
       "      <td>0.743341</td>\n",
       "      <td>16.875344</td>\n",
       "    </tr>\n",
       "    <tr>\n",
       "      <th>V5</th>\n",
       "      <td>284807.0</td>\n",
       "      <td>-1.552563e-15</td>\n",
       "      <td>1.380247</td>\n",
       "      <td>-113.743307</td>\n",
       "      <td>-0.691597</td>\n",
       "      <td>-0.054336</td>\n",
       "      <td>0.611926</td>\n",
       "      <td>34.801666</td>\n",
       "    </tr>\n",
       "    <tr>\n",
       "      <th>V6</th>\n",
       "      <td>284807.0</td>\n",
       "      <td>2.010663e-15</td>\n",
       "      <td>1.332271</td>\n",
       "      <td>-26.160506</td>\n",
       "      <td>-0.768296</td>\n",
       "      <td>-0.274187</td>\n",
       "      <td>0.398565</td>\n",
       "      <td>73.301626</td>\n",
       "    </tr>\n",
       "    <tr>\n",
       "      <th>V7</th>\n",
       "      <td>284807.0</td>\n",
       "      <td>-1.694249e-15</td>\n",
       "      <td>1.237094</td>\n",
       "      <td>-43.557242</td>\n",
       "      <td>-0.554076</td>\n",
       "      <td>0.040103</td>\n",
       "      <td>0.570436</td>\n",
       "      <td>120.589494</td>\n",
       "    </tr>\n",
       "    <tr>\n",
       "      <th>V8</th>\n",
       "      <td>284807.0</td>\n",
       "      <td>-1.927028e-16</td>\n",
       "      <td>1.194353</td>\n",
       "      <td>-73.216718</td>\n",
       "      <td>-0.208630</td>\n",
       "      <td>0.022358</td>\n",
       "      <td>0.327346</td>\n",
       "      <td>20.007208</td>\n",
       "    </tr>\n",
       "    <tr>\n",
       "      <th>V9</th>\n",
       "      <td>284807.0</td>\n",
       "      <td>-3.137024e-15</td>\n",
       "      <td>1.098632</td>\n",
       "      <td>-13.434066</td>\n",
       "      <td>-0.643098</td>\n",
       "      <td>-0.051429</td>\n",
       "      <td>0.597139</td>\n",
       "      <td>15.594995</td>\n",
       "    </tr>\n",
       "    <tr>\n",
       "      <th>V10</th>\n",
       "      <td>284807.0</td>\n",
       "      <td>1.768627e-15</td>\n",
       "      <td>1.088850</td>\n",
       "      <td>-24.588262</td>\n",
       "      <td>-0.535426</td>\n",
       "      <td>-0.092917</td>\n",
       "      <td>0.453923</td>\n",
       "      <td>23.745136</td>\n",
       "    </tr>\n",
       "    <tr>\n",
       "      <th>V11</th>\n",
       "      <td>284807.0</td>\n",
       "      <td>9.170318e-16</td>\n",
       "      <td>1.020713</td>\n",
       "      <td>-4.797473</td>\n",
       "      <td>-0.762494</td>\n",
       "      <td>-0.032757</td>\n",
       "      <td>0.739593</td>\n",
       "      <td>12.018913</td>\n",
       "    </tr>\n",
       "    <tr>\n",
       "      <th>V12</th>\n",
       "      <td>284807.0</td>\n",
       "      <td>-1.810658e-15</td>\n",
       "      <td>0.999201</td>\n",
       "      <td>-18.683715</td>\n",
       "      <td>-0.405571</td>\n",
       "      <td>0.140033</td>\n",
       "      <td>0.618238</td>\n",
       "      <td>7.848392</td>\n",
       "    </tr>\n",
       "    <tr>\n",
       "      <th>V13</th>\n",
       "      <td>284807.0</td>\n",
       "      <td>1.693438e-15</td>\n",
       "      <td>0.995274</td>\n",
       "      <td>-5.791881</td>\n",
       "      <td>-0.648539</td>\n",
       "      <td>-0.013568</td>\n",
       "      <td>0.662505</td>\n",
       "      <td>7.126883</td>\n",
       "    </tr>\n",
       "    <tr>\n",
       "      <th>V14</th>\n",
       "      <td>284807.0</td>\n",
       "      <td>1.479045e-15</td>\n",
       "      <td>0.958596</td>\n",
       "      <td>-19.214325</td>\n",
       "      <td>-0.425574</td>\n",
       "      <td>0.050601</td>\n",
       "      <td>0.493150</td>\n",
       "      <td>10.526766</td>\n",
       "    </tr>\n",
       "    <tr>\n",
       "      <th>V15</th>\n",
       "      <td>284807.0</td>\n",
       "      <td>3.482336e-15</td>\n",
       "      <td>0.915316</td>\n",
       "      <td>-4.498945</td>\n",
       "      <td>-0.582884</td>\n",
       "      <td>0.048072</td>\n",
       "      <td>0.648821</td>\n",
       "      <td>8.877742</td>\n",
       "    </tr>\n",
       "    <tr>\n",
       "      <th>V16</th>\n",
       "      <td>284807.0</td>\n",
       "      <td>1.392007e-15</td>\n",
       "      <td>0.876253</td>\n",
       "      <td>-14.129855</td>\n",
       "      <td>-0.468037</td>\n",
       "      <td>0.066413</td>\n",
       "      <td>0.523296</td>\n",
       "      <td>17.315112</td>\n",
       "    </tr>\n",
       "    <tr>\n",
       "      <th>V17</th>\n",
       "      <td>284807.0</td>\n",
       "      <td>-7.528491e-16</td>\n",
       "      <td>0.849337</td>\n",
       "      <td>-25.162799</td>\n",
       "      <td>-0.483748</td>\n",
       "      <td>-0.065676</td>\n",
       "      <td>0.399675</td>\n",
       "      <td>9.253526</td>\n",
       "    </tr>\n",
       "    <tr>\n",
       "      <th>V18</th>\n",
       "      <td>284807.0</td>\n",
       "      <td>4.328772e-16</td>\n",
       "      <td>0.838176</td>\n",
       "      <td>-9.498746</td>\n",
       "      <td>-0.498850</td>\n",
       "      <td>-0.003636</td>\n",
       "      <td>0.500807</td>\n",
       "      <td>5.041069</td>\n",
       "    </tr>\n",
       "    <tr>\n",
       "      <th>V19</th>\n",
       "      <td>284807.0</td>\n",
       "      <td>9.049732e-16</td>\n",
       "      <td>0.814041</td>\n",
       "      <td>-7.213527</td>\n",
       "      <td>-0.456299</td>\n",
       "      <td>0.003735</td>\n",
       "      <td>0.458949</td>\n",
       "      <td>5.591971</td>\n",
       "    </tr>\n",
       "    <tr>\n",
       "      <th>V20</th>\n",
       "      <td>284807.0</td>\n",
       "      <td>5.085503e-16</td>\n",
       "      <td>0.770925</td>\n",
       "      <td>-54.497720</td>\n",
       "      <td>-0.211721</td>\n",
       "      <td>-0.062481</td>\n",
       "      <td>0.133041</td>\n",
       "      <td>39.420904</td>\n",
       "    </tr>\n",
       "    <tr>\n",
       "      <th>V21</th>\n",
       "      <td>284807.0</td>\n",
       "      <td>1.537294e-16</td>\n",
       "      <td>0.734524</td>\n",
       "      <td>-34.830382</td>\n",
       "      <td>-0.228395</td>\n",
       "      <td>-0.029450</td>\n",
       "      <td>0.186377</td>\n",
       "      <td>27.202839</td>\n",
       "    </tr>\n",
       "    <tr>\n",
       "      <th>V22</th>\n",
       "      <td>284807.0</td>\n",
       "      <td>7.959909e-16</td>\n",
       "      <td>0.725702</td>\n",
       "      <td>-10.933144</td>\n",
       "      <td>-0.542350</td>\n",
       "      <td>0.006782</td>\n",
       "      <td>0.528554</td>\n",
       "      <td>10.503090</td>\n",
       "    </tr>\n",
       "    <tr>\n",
       "      <th>V23</th>\n",
       "      <td>284807.0</td>\n",
       "      <td>5.367590e-16</td>\n",
       "      <td>0.624460</td>\n",
       "      <td>-44.807735</td>\n",
       "      <td>-0.161846</td>\n",
       "      <td>-0.011193</td>\n",
       "      <td>0.147642</td>\n",
       "      <td>22.528412</td>\n",
       "    </tr>\n",
       "    <tr>\n",
       "      <th>V24</th>\n",
       "      <td>284807.0</td>\n",
       "      <td>4.458112e-15</td>\n",
       "      <td>0.605647</td>\n",
       "      <td>-2.836627</td>\n",
       "      <td>-0.354586</td>\n",
       "      <td>0.040976</td>\n",
       "      <td>0.439527</td>\n",
       "      <td>4.584549</td>\n",
       "    </tr>\n",
       "    <tr>\n",
       "      <th>V25</th>\n",
       "      <td>284807.0</td>\n",
       "      <td>1.453003e-15</td>\n",
       "      <td>0.521278</td>\n",
       "      <td>-10.295397</td>\n",
       "      <td>-0.317145</td>\n",
       "      <td>0.016594</td>\n",
       "      <td>0.350716</td>\n",
       "      <td>7.519589</td>\n",
       "    </tr>\n",
       "    <tr>\n",
       "      <th>V26</th>\n",
       "      <td>284807.0</td>\n",
       "      <td>1.699104e-15</td>\n",
       "      <td>0.482227</td>\n",
       "      <td>-2.604551</td>\n",
       "      <td>-0.326984</td>\n",
       "      <td>-0.052139</td>\n",
       "      <td>0.240952</td>\n",
       "      <td>3.517346</td>\n",
       "    </tr>\n",
       "    <tr>\n",
       "      <th>V27</th>\n",
       "      <td>284807.0</td>\n",
       "      <td>-3.660161e-16</td>\n",
       "      <td>0.403632</td>\n",
       "      <td>-22.565679</td>\n",
       "      <td>-0.070840</td>\n",
       "      <td>0.001342</td>\n",
       "      <td>0.091045</td>\n",
       "      <td>31.612198</td>\n",
       "    </tr>\n",
       "    <tr>\n",
       "      <th>V28</th>\n",
       "      <td>284807.0</td>\n",
       "      <td>-1.206049e-16</td>\n",
       "      <td>0.330083</td>\n",
       "      <td>-15.430084</td>\n",
       "      <td>-0.052960</td>\n",
       "      <td>0.011244</td>\n",
       "      <td>0.078280</td>\n",
       "      <td>33.847808</td>\n",
       "    </tr>\n",
       "    <tr>\n",
       "      <th>Amount</th>\n",
       "      <td>284807.0</td>\n",
       "      <td>8.834962e+01</td>\n",
       "      <td>250.120109</td>\n",
       "      <td>0.000000</td>\n",
       "      <td>5.600000</td>\n",
       "      <td>22.000000</td>\n",
       "      <td>77.165000</td>\n",
       "      <td>25691.160000</td>\n",
       "    </tr>\n",
       "    <tr>\n",
       "      <th>Class</th>\n",
       "      <td>284807.0</td>\n",
       "      <td>1.727486e-03</td>\n",
       "      <td>0.041527</td>\n",
       "      <td>0.000000</td>\n",
       "      <td>0.000000</td>\n",
       "      <td>0.000000</td>\n",
       "      <td>0.000000</td>\n",
       "      <td>1.000000</td>\n",
       "    </tr>\n",
       "  </tbody>\n",
       "</table>\n",
       "</div>"
      ],
      "text/plain": [
       "           count          mean           std         min           25%  \\\n",
       "Time    284807.0  9.481386e+04  47488.145955    0.000000  54201.500000   \n",
       "V1      284807.0  3.919560e-15      1.958696  -56.407510     -0.920373   \n",
       "V2      284807.0  5.688174e-16      1.651309  -72.715728     -0.598550   \n",
       "V3      284807.0 -8.769071e-15      1.516255  -48.325589     -0.890365   \n",
       "V4      284807.0  2.782312e-15      1.415869   -5.683171     -0.848640   \n",
       "V5      284807.0 -1.552563e-15      1.380247 -113.743307     -0.691597   \n",
       "V6      284807.0  2.010663e-15      1.332271  -26.160506     -0.768296   \n",
       "V7      284807.0 -1.694249e-15      1.237094  -43.557242     -0.554076   \n",
       "V8      284807.0 -1.927028e-16      1.194353  -73.216718     -0.208630   \n",
       "V9      284807.0 -3.137024e-15      1.098632  -13.434066     -0.643098   \n",
       "V10     284807.0  1.768627e-15      1.088850  -24.588262     -0.535426   \n",
       "V11     284807.0  9.170318e-16      1.020713   -4.797473     -0.762494   \n",
       "V12     284807.0 -1.810658e-15      0.999201  -18.683715     -0.405571   \n",
       "V13     284807.0  1.693438e-15      0.995274   -5.791881     -0.648539   \n",
       "V14     284807.0  1.479045e-15      0.958596  -19.214325     -0.425574   \n",
       "V15     284807.0  3.482336e-15      0.915316   -4.498945     -0.582884   \n",
       "V16     284807.0  1.392007e-15      0.876253  -14.129855     -0.468037   \n",
       "V17     284807.0 -7.528491e-16      0.849337  -25.162799     -0.483748   \n",
       "V18     284807.0  4.328772e-16      0.838176   -9.498746     -0.498850   \n",
       "V19     284807.0  9.049732e-16      0.814041   -7.213527     -0.456299   \n",
       "V20     284807.0  5.085503e-16      0.770925  -54.497720     -0.211721   \n",
       "V21     284807.0  1.537294e-16      0.734524  -34.830382     -0.228395   \n",
       "V22     284807.0  7.959909e-16      0.725702  -10.933144     -0.542350   \n",
       "V23     284807.0  5.367590e-16      0.624460  -44.807735     -0.161846   \n",
       "V24     284807.0  4.458112e-15      0.605647   -2.836627     -0.354586   \n",
       "V25     284807.0  1.453003e-15      0.521278  -10.295397     -0.317145   \n",
       "V26     284807.0  1.699104e-15      0.482227   -2.604551     -0.326984   \n",
       "V27     284807.0 -3.660161e-16      0.403632  -22.565679     -0.070840   \n",
       "V28     284807.0 -1.206049e-16      0.330083  -15.430084     -0.052960   \n",
       "Amount  284807.0  8.834962e+01    250.120109    0.000000      5.600000   \n",
       "Class   284807.0  1.727486e-03      0.041527    0.000000      0.000000   \n",
       "\n",
       "                 50%            75%            max  \n",
       "Time    84692.000000  139320.500000  172792.000000  \n",
       "V1          0.018109       1.315642       2.454930  \n",
       "V2          0.065486       0.803724      22.057729  \n",
       "V3          0.179846       1.027196       9.382558  \n",
       "V4         -0.019847       0.743341      16.875344  \n",
       "V5         -0.054336       0.611926      34.801666  \n",
       "V6         -0.274187       0.398565      73.301626  \n",
       "V7          0.040103       0.570436     120.589494  \n",
       "V8          0.022358       0.327346      20.007208  \n",
       "V9         -0.051429       0.597139      15.594995  \n",
       "V10        -0.092917       0.453923      23.745136  \n",
       "V11        -0.032757       0.739593      12.018913  \n",
       "V12         0.140033       0.618238       7.848392  \n",
       "V13        -0.013568       0.662505       7.126883  \n",
       "V14         0.050601       0.493150      10.526766  \n",
       "V15         0.048072       0.648821       8.877742  \n",
       "V16         0.066413       0.523296      17.315112  \n",
       "V17        -0.065676       0.399675       9.253526  \n",
       "V18        -0.003636       0.500807       5.041069  \n",
       "V19         0.003735       0.458949       5.591971  \n",
       "V20        -0.062481       0.133041      39.420904  \n",
       "V21        -0.029450       0.186377      27.202839  \n",
       "V22         0.006782       0.528554      10.503090  \n",
       "V23        -0.011193       0.147642      22.528412  \n",
       "V24         0.040976       0.439527       4.584549  \n",
       "V25         0.016594       0.350716       7.519589  \n",
       "V26        -0.052139       0.240952       3.517346  \n",
       "V27         0.001342       0.091045      31.612198  \n",
       "V28         0.011244       0.078280      33.847808  \n",
       "Amount     22.000000      77.165000   25691.160000  \n",
       "Class       0.000000       0.000000       1.000000  "
      ]
     },
     "execution_count": 2,
     "metadata": {},
     "output_type": "execute_result"
    }
   ],
   "source": [
    "df = pd.read_csv(\"creditcard.csv\")\n",
    "df.describe().T"
   ]
  },
  {
   "cell_type": "code",
   "execution_count": 3,
   "metadata": {},
   "outputs": [
    {
     "data": {
      "image/png": "[encoded data removed]",
      "text/plain": [
       "<Figure size 1152x1440 with 36 Axes>"
      ]
     },
     "metadata": {
      "needs_background": "light"
     },
     "output_type": "display_data"
    }
   ],
   "source": [
    "df.hist(bins = 20 , figsize= (16,20));"
   ]
  },
  {
   "cell_type": "code",
   "execution_count": 4,
   "metadata": {},
   "outputs": [
    {
     "data": {
      "text/plain": [
       "Time      0\n",
       "V1        0\n",
       "V2        0\n",
       "V3        0\n",
       "V4        0\n",
       "V5        0\n",
       "V6        0\n",
       "V7        0\n",
       "V8        0\n",
       "V9        0\n",
       "V10       0\n",
       "V11       0\n",
       "V12       0\n",
       "V13       0\n",
       "V14       0\n",
       "V15       0\n",
       "V16       0\n",
       "V17       0\n",
       "V18       0\n",
       "V19       0\n",
       "V20       0\n",
       "V21       0\n",
       "V22       0\n",
       "V23       0\n",
       "V24       0\n",
       "V25       0\n",
       "V26       0\n",
       "V27       0\n",
       "V28       0\n",
       "Amount    0\n",
       "Class     0\n",
       "dtype: int64"
      ]
     },
     "execution_count": 4,
     "metadata": {},
     "output_type": "execute_result"
    }
   ],
   "source": [
    "df.isnull().sum()"
   ]
  },
  {
   "cell_type": "code",
   "execution_count": 5,
   "metadata": {},
   "outputs": [
    {
     "data": {
      "text/plain": [
       "<BarContainer object of 2 artists>"
      ]
     },
     "execution_count": 5,
     "metadata": {},
     "output_type": "execute_result"
    },
    {
     "data": {
      "image/png": "[encoded data removed]",
      "text/plain": [
       "<Figure size 432x288 with 1 Axes>"
      ]
     },
     "metadata": {
      "needs_background": "light"
     },
     "output_type": "display_data"
    }
   ],
   "source": [
    "class1 = len(df[df['Class']==1])\n",
    "class0 = len(df[df['Class']==0])\n",
    "plt.bar(['Non Fraudulent', 'Fraudulent'],[class0,class1], align='center')"
   ]
  },
  {
   "cell_type": "code",
   "execution_count": 6,
   "metadata": {},
   "outputs": [
    {
     "data": {
      "text/plain": [
       "(984, 31)"
      ]
     },
     "execution_count": 6,
     "metadata": {},
     "output_type": "execute_result"
    }
   ],
   "source": [
    "df_class_1 = df[df['Class']==1]\n",
    "df_class_0 = df[df['Class']==0].sample(class1)\n",
    "new_df = pd.concat([df_class_0,df_class_1])\n",
    "new_df.sort_index(axis=0, ascending=True, inplace=True)\n",
    "new_df.shape"
   ]
  },
  {
   "cell_type": "code",
   "execution_count": 7,
   "metadata": {},
   "outputs": [
    {
     "data": {
      "text/plain": [
       "<BarContainer object of 2 artists>"
      ]
     },
     "execution_count": 7,
     "metadata": {},
     "output_type": "execute_result"
    },
    {
     "data": {
      "image/png": "[encoded data removed]",
      "text/plain": [
       "<Figure size 432x288 with 1 Axes>"
      ]
     },
     "metadata": {
      "needs_background": "light"
     },
     "output_type": "display_data"
    }
   ],
   "source": [
    "new_class1 = len(new_df[new_df['Class']==1])\n",
    "new_class0 = len(new_df[new_df['Class']==0])\n",
    "plt.bar(['Non Fraudulent', 'Fraudulent'],[new_class0,new_class1], align='center')"
   ]
  },
  {
   "cell_type": "code",
   "execution_count": 8,
   "metadata": {},
   "outputs": [
    {
     "data": {
      "image/png": "[encoded data removed]",
      "text/plain": [
       "<Figure size 1008x576 with 2 Axes>"
      ]
     },
     "metadata": {
      "needs_background": "light"
     },
     "output_type": "display_data"
    }
   ],
   "source": [
    "new_df[['Time','Amount']].hist(bins = 20 , figsize= (14,8));"
   ]
  },
  {
   "cell_type": "code",
   "execution_count": 9,
   "metadata": {},
   "outputs": [
    {
     "name": "stdout",
     "output_type": "stream",
     "text": [
      "X shape and y shape =(984, 30) , (984,)\n"
     ]
    }
   ],
   "source": [
    "x_data = new_df.drop(['Class'], axis =1)\n",
    "y_data = new_df['Class']\n",
    "print(\"X shape and y shape =\" + str(x_data.shape) + \" , \" + str(y_data.shape))"
   ]
  },
  {
   "cell_type": "markdown",
   "metadata": {},
   "source": [
    "# Random Forest Classifier"
   ]
  },
  {
   "cell_type": "code",
   "execution_count": 10,
   "metadata": {},
   "outputs": [
    {
     "name": "stdout",
     "output_type": "stream",
     "text": [
      "The accuracy of the random forest classfier is 93.80%\n"
     ]
    }
   ],
   "source": [
    "val_acc = []\n",
    "kf = KFold(n_splits=5)\n",
    "rf = RandomForestClassifier(n_estimators = 100)\n",
    "for train_index, val_index in kf.split(x_data):\n",
    "    rf.fit(x_data.iloc[train_index], y_data.iloc[train_index])\n",
    "    val_acc.append(rf.score(x_data.iloc[val_index],y_data.iloc[val_index]))\n",
    "accuracy = sum(val_acc)/len(val_acc)*100\n",
    "print(\"The accuracy of the random forest classfier is {0:.2f}%\".format(accuracy))"
   ]
  },
  {
   "cell_type": "code",
   "execution_count": 11,
   "metadata": {},
   "outputs": [
    {
     "name": "stdout",
     "output_type": "stream",
     "text": [
      "                precision    recall  f1-score   support\n",
      "\n",
      "Not Fraudulent       0.92      0.95      0.93       142\n",
      "    Fraudulent       0.95      0.92      0.94       154\n",
      "\n",
      "      accuracy                           0.94       296\n",
      "     macro avg       0.94      0.94      0.94       296\n",
      "  weighted avg       0.94      0.94      0.94       296\n",
      "\n"
     ]
    }
   ],
   "source": [
    "from sklearn.metrics import classification_report\n",
    "X_train, X_test, y_train, y_test = train_test_split(x_data, y_data, test_size= 0.3, random_state=123)\n",
    "rf.fit(X_train,y_train)\n",
    "y_pred = rf.predict(X_test)\n",
    "target_names = ['Not Fraudulent', 'Fraudulent']\n",
    "print(classification_report(y_test, y_pred, target_names=target_names))"
   ]
  },
  {
   "cell_type": "code",
   "execution_count": 12,
   "metadata": {},
   "outputs": [],
   "source": [
    "from sklearn.metrics import recall_score\n",
    "def hyperparam_tuning_rf(x_data,y_data, depth_list, estimator_list, min_split_list, min_leaf_list):\n",
    "    X_train, X_test, y_train, y_test = train_test_split(x_data, y_data, test_size= 0.3, random_state=123)\n",
    "    print(\"Metrics for number of estimators parameter\")\n",
    "    for estimator in estimator_list:\n",
    "        rf = RandomForestClassifier(n_estimators = estimator)\n",
    "        rf.fit(X_train,y_train)\n",
    "        acc = rf.score(X_test,y_test)*100\n",
    "        y_pred = rf.predict(X_test)\n",
    "        recall = recall_score(y_test, y_pred, average='micro')*100\n",
    "        print(\"\\t n_estimators {0} Accuracy score {1:.2f}% recall score {2:.2f}%\".format(estimator,acc,recall))\n",
    "    print(\"\\n\")\n",
    "    print(\"Metrics for max depth parameter\")\n",
    "    for depth in depth_list:\n",
    "        rf = RandomForestClassifier(n_estimators = 100,max_depth= depth)\n",
    "        rf.fit(X_train,y_train)\n",
    "        acc = rf.score(X_test,y_test)*100\n",
    "        y_pred = rf.predict(X_test)\n",
    "        recall = recall_score(y_test, y_pred, average='micro')*100\n",
    "        print(\"\\t max_depth {0} Accuracy score {1:.2f}% recall score {2:.2f}%\".format(depth,acc,recall))\n",
    "    print(\"\\n\")\n",
    "    print(\"Metrics for minimum number of samples for spliting node parameter\")\n",
    "    for min_split in min_split_list:\n",
    "        rf = RandomForestClassifier(n_estimators = 100,min_samples_split= min_split)\n",
    "        rf.fit(X_train,y_train)\n",
    "        acc = rf.score(X_test,y_test)*100\n",
    "        y_pred = rf.predict(X_test)\n",
    "        recall = recall_score(y_test, y_pred, average='micro')*100\n",
    "        print(\"\\t min_samples_split {0} Accuracy score {1:.2f}% recall score {2:.2f}%\".format(min_split,acc,recall))\n",
    "    print(\"\\n\")\n",
    "    print(\"Metrics for minimum number of samples for leaf node parameter\")\n",
    "    for min_leaf in min_leaf_list:\n",
    "        rf = RandomForestClassifier(n_estimators = 100,min_samples_leaf = min_leaf)\n",
    "        rf.fit(X_train,y_train)\n",
    "        acc = rf.score(X_test,y_test)*100\n",
    "        y_pred = rf.predict(X_test)\n",
    "        recall = recall_score(y_test, y_pred, average='micro')*100\n",
    "        print(\"\\t min_samples_leaf {0} Accuracy score {1:.2f}% recall score {2:.2f}%\".format(min_leaf,acc,recall))"
   ]
  },
  {
   "cell_type": "code",
   "execution_count": 13,
   "metadata": {},
   "outputs": [
    {
     "name": "stdout",
     "output_type": "stream",
     "text": [
      "Metrics for number of estimators parameter\n",
      "\t n_estimators 10 Accuracy score 93.24% recall score 93.24%\n",
      "\t n_estimators 50 Accuracy score 93.92% recall score 93.92%\n",
      "\t n_estimators 100 Accuracy score 93.24% recall score 93.24%\n",
      "\t n_estimators 200 Accuracy score 93.92% recall score 93.92%\n",
      "\t n_estimators 400 Accuracy score 93.58% recall score 93.58%\n",
      "\t n_estimators 500 Accuracy score 93.58% recall score 93.58%\n",
      "\n",
      "\n",
      "Metrics for max depth parameter\n",
      "\t max_depth 1 Accuracy score 92.57% recall score 92.57%\n",
      "\t max_depth 2 Accuracy score 93.58% recall score 93.58%\n",
      "\t max_depth 5 Accuracy score 93.92% recall score 93.92%\n",
      "\t max_depth 10 Accuracy score 93.92% recall score 93.92%\n",
      "\t max_depth 15 Accuracy score 93.92% recall score 93.92%\n",
      "\t max_depth 20 Accuracy score 93.24% recall score 93.24%\n",
      "\n",
      "\n",
      "Metrics for minimum number of samples for spliting node parameter\n",
      "\t min_samples_split 2 Accuracy score 93.24% recall score 93.24%\n",
      "\t min_samples_split 5 Accuracy score 93.58% recall score 93.58%\n",
      "\t min_samples_split 10 Accuracy score 93.92% recall score 93.92%\n",
      "\t min_samples_split 15 Accuracy score 93.58% recall score 93.58%\n",
      "\t min_samples_split 100 Accuracy score 94.26% recall score 94.26%\n",
      "\n",
      "\n",
      "Metrics for minimum number of samples for leaf node parameter\n",
      "\t min_samples_leaf 1 Accuracy score 93.92% recall score 93.92%\n",
      "\t min_samples_leaf 2 Accuracy score 93.92% recall score 93.92%\n",
      "\t min_samples_leaf 5 Accuracy score 93.92% recall score 93.92%\n",
      "\t min_samples_leaf 10 Accuracy score 93.92% recall score 93.92%\n",
      "\t min_samples_leaf 20 Accuracy score 93.92% recall score 93.92%\n",
      "\t min_samples_leaf 30 Accuracy score 93.92% recall score 93.92%\n",
      "\t min_samples_leaf 40 Accuracy score 93.58% recall score 93.58%\n"
     ]
    }
   ],
   "source": [
    "estimator_list = [10,50,100,200,400,500]\n",
    "depth_list = [1,2,5,10,15,20]\n",
    "min_split_list = [2, 5, 10, 15, 100]\n",
    "min_leaf_list = [1, 2, 5, 10,20,30,40]\n",
    "hyperparam_tuning_rf(x_data,y_data, depth_list, estimator_list, min_split_list, min_leaf_list)"
   ]
  },
  {
   "cell_type": "code",
   "execution_count": 66,
   "metadata": {},
   "outputs": [
    {
     "name": "stdout",
     "output_type": "stream",
     "text": [
      "The accuracy and recall score of the random forest classfier is 94.21% and 94.21%\n"
     ]
    }
   ],
   "source": [
    "rf = RandomForestClassifier(n_estimators = 200,max_depth= 15, min_samples_split = 10, min_samples_leaf = 5)\n",
    "val_acc = []\n",
    "val_f1 = []\n",
    "kf = KFold(n_splits=5)\n",
    "for train_index, val_index in kf.split(x_data):\n",
    "    rf.fit(x_data.iloc[train_index], y_data.iloc[train_index])\n",
    "    val_acc.append(rf.score(x_data.iloc[val_index],y_data.iloc[val_index]))\n",
    "    y_pred = rf.predict(x_data.iloc[val_index])\n",
    "    val_f1.append(recall_score(y_data.iloc[val_index], y_pred, average='micro'))\n",
    "accuracy = sum(val_acc)/len(val_acc)*100\n",
    "f1_score = sum(val_f1)/len(val_f1)*100\n",
    "print(\"The accuracy and recall score of the random forest classfier is {0:.2f}% and {1:.2f}%\".format(accuracy,f1_score))"
   ]
  },
  {
   "cell_type": "markdown",
   "metadata": {},
   "source": [
    "# Decision Tree"
   ]
  },
  {
   "cell_type": "code",
   "execution_count": 15,
   "metadata": {},
   "outputs": [],
   "source": [
    "from sklearn.tree import DecisionTreeClassifier\n",
    "def hyperparam_tuning_decision_tree(x_data,y_data, depth_list, min_split_list, min_leaf_list):\n",
    "    X_train, X_test, y_train, y_test = train_test_split(x_data, y_data, test_size= 0.3, random_state=123)\n",
    "    print(\"Metrics for max depth parameter\")\n",
    "    for depth in depth_list:\n",
    "        dtree = DecisionTreeClassifier(max_depth= depth)\n",
    "        dtree.fit(X_train,y_train)\n",
    "        acc = dtree.score(X_test,y_test)*100\n",
    "        y_pred = dtree.predict(X_test)\n",
    "        recall = recall_score(y_test, y_pred, average='micro')*100\n",
    "        print(\"\\t max_depth {0} Accuracy score {1:.2f}% recall score {2:.2f}%\".format(depth,acc,recall))\n",
    "    print(\"\\n\")\n",
    "    print(\"Metrics for minimum number of samples for spliting node parameter\")\n",
    "    for min_split in min_split_list:\n",
    "        dtree = DecisionTreeClassifier(min_samples_split= min_split)\n",
    "        dtree.fit(X_train,y_train)\n",
    "        acc = dtree.score(X_test,y_test)*100\n",
    "        y_pred = dtree.predict(X_test)\n",
    "        recall = recall_score(y_test, y_pred, average='micro')*100\n",
    "        print(\"\\t min_samples_split {0} Accuracy score {1:.2f}% recall score {2:.2f}%\".format(min_split,acc,recall))\n",
    "    print(\"\\n\")\n",
    "    print(\"Metrics for minimum number of samples for leaf node parameter\")\n",
    "    for min_leaf in min_leaf_list:\n",
    "        dtree = DecisionTreeClassifier(min_samples_leaf = min_leaf)\n",
    "        dtree.fit(X_train,y_train)\n",
    "        acc = dtree.score(X_test,y_test)*100\n",
    "        y_pred = dtree.predict(X_test)\n",
    "        recall = recall_score(y_test, y_pred, average='micro')*100\n",
    "        print(\"\\t min_samples_leaf {0} Accuracy score {1:.2f}% recall score {2:.2f}%\".format(min_leaf,acc,recall))"
   ]
  },
  {
   "cell_type": "code",
   "execution_count": 16,
   "metadata": {},
   "outputs": [
    {
     "name": "stdout",
     "output_type": "stream",
     "text": [
      "Metrics for max depth parameter\n",
      "\t max_depth 1 Accuracy score 92.23% recall score 92.23%\n",
      "\t max_depth 2 Accuracy score 90.88% recall score 90.88%\n",
      "\t max_depth 5 Accuracy score 92.23% recall score 92.23%\n",
      "\t max_depth 10 Accuracy score 91.55% recall score 91.55%\n",
      "\t max_depth 15 Accuracy score 91.22% recall score 91.22%\n",
      "\t max_depth 20 Accuracy score 91.55% recall score 91.55%\n",
      "\t max_depth 25 Accuracy score 92.57% recall score 92.57%\n",
      "\t max_depth None Accuracy score 92.23% recall score 92.23%\n",
      "\n",
      "\n",
      "Metrics for minimum number of samples for spliting node parameter\n",
      "\t min_samples_split 2 Accuracy score 90.54% recall score 90.54%\n",
      "\t min_samples_split 5 Accuracy score 91.55% recall score 91.55%\n",
      "\t min_samples_split 10 Accuracy score 92.23% recall score 92.23%\n",
      "\t min_samples_split 15 Accuracy score 90.88% recall score 90.88%\n",
      "\t min_samples_split 100 Accuracy score 93.24% recall score 93.24%\n",
      "\n",
      "\n",
      "Metrics for minimum number of samples for leaf node parameter\n",
      "\t min_samples_leaf 1 Accuracy score 90.20% recall score 90.20%\n",
      "\t min_samples_leaf 2 Accuracy score 91.22% recall score 91.22%\n",
      "\t min_samples_leaf 5 Accuracy score 90.88% recall score 90.88%\n",
      "\t min_samples_leaf 10 Accuracy score 89.19% recall score 89.19%\n",
      "\t min_samples_leaf 20 Accuracy score 92.91% recall score 92.91%\n",
      "\t min_samples_leaf 30 Accuracy score 92.91% recall score 92.91%\n",
      "\t min_samples_leaf 40 Accuracy score 92.23% recall score 92.23%\n"
     ]
    }
   ],
   "source": [
    "depth_list = [1,2,5,10,15,20,25,None]\n",
    "min_split_list = [2, 5, 10, 15, 100]\n",
    "min_leaf_list = [1, 2, 5, 10,20,30,40]\n",
    "hyperparam_tuning_decision_tree(x_data,y_data, depth_list, min_split_list, min_leaf_list)"
   ]
  },
  {
   "cell_type": "code",
   "execution_count": 17,
   "metadata": {},
   "outputs": [
    {
     "name": "stdout",
     "output_type": "stream",
     "text": [
      "The accuracy and recall score of the decision tree classfier is 92.38% and 92.38%\n"
     ]
    }
   ],
   "source": [
    "dtree = DecisionTreeClassifier(max_depth= 5, min_samples_split = 5, min_samples_leaf = 20)\n",
    "val_acc = []\n",
    "val_f1 = []\n",
    "kf = KFold(n_splits=5)\n",
    "for train_index, val_index in kf.split(x_data):\n",
    "    dtree.fit(x_data.iloc[train_index], y_data.iloc[train_index])\n",
    "    val_acc.append(dtree.score(x_data.iloc[val_index],y_data.iloc[val_index]))\n",
    "    y_pred_tree = dtree.predict(x_data.iloc[val_index])\n",
    "    val_f1.append(recall_score(y_data.iloc[val_index], y_pred_tree, average='micro'))\n",
    "accuracy = sum(val_acc)/len(val_acc)*100\n",
    "f1_score = sum(val_f1)/len(val_f1)*100\n",
    "print(\"The accuracy and recall score of the decision tree classfier is {0:.2f}% and {1:.2f}%\".format(accuracy,f1_score))"
   ]
  },
  {
   "cell_type": "markdown",
   "metadata": {},
   "source": [
    "# Adaboosted Tree"
   ]
  },
  {
   "cell_type": "code",
   "execution_count": 18,
   "metadata": {},
   "outputs": [],
   "source": [
    "from sklearn.ensemble import AdaBoostClassifier\n",
    "def hyperparam_tuning_adaboosted_tree(x_data,y_data, estimators_list, learning_rate_list):\n",
    "    X_train, X_test, y_train, y_test = train_test_split(x_data, y_data, test_size= 0.3, random_state=123)\n",
    "    dtree = DecisionTreeClassifier(max_depth= 5, min_samples_split = 5, min_samples_leaf = 20)\n",
    "    print(\"Metrics for number of estimator parameter\")\n",
    "    for estimators in estimators_list:\n",
    "        adabc = AdaBoostClassifier(base_estimator=dtree, n_estimators=50)\n",
    "        adabc.fit(X_train,y_train)\n",
    "        acc = adabc.score(X_test,y_test)*100\n",
    "        y_pred = adabc.predict(X_test)\n",
    "        recall = recall_score(y_test, y_pred, average='micro')*100\n",
    "        print(\"\\t n_estimators {0} Accuracy score {1:.2f}% recall score {2:.2f}%\".format(estimators,acc,recall))\n",
    "    print(\"\\n\")\n",
    "    print(\"Metrics for learning rate parameter\")\n",
    "    for rate in learning_rate_list:\n",
    "        adabc = AdaBoostClassifier(base_estimator=dtree, learning_rate = rate)\n",
    "        adabc.fit(X_train,y_train)\n",
    "        acc = adabc.score(X_test,y_test)*100\n",
    "        y_pred = adabc.predict(X_test)\n",
    "        recall = recall_score(y_test, y_pred, average='micro')*100\n",
    "        print(\"\\t learning_rate {0} Accuracy score {1:.2f}% recall score {2:.2f}%\".format(rate,acc,recall))\n",
    "    print(\"\\n\")"
   ]
  },
  {
   "cell_type": "code",
   "execution_count": 19,
   "metadata": {},
   "outputs": [
    {
     "name": "stdout",
     "output_type": "stream",
     "text": [
      "Metrics for number of estimator parameter\n",
      "\t n_estimators 10 Accuracy score 92.57% recall score 92.57%\n",
      "\t n_estimators 50 Accuracy score 92.23% recall score 92.23%\n",
      "\t n_estimators 100 Accuracy score 93.92% recall score 93.92%\n",
      "\t n_estimators 200 Accuracy score 92.91% recall score 92.91%\n",
      "\t n_estimators 400 Accuracy score 92.23% recall score 92.23%\n",
      "\t n_estimators 500 Accuracy score 93.24% recall score 93.24%\n",
      "\n",
      "\n",
      "Metrics for learning rate parameter\n",
      "\t learning_rate 0.01 Accuracy score 93.58% recall score 93.58%\n",
      "\t learning_rate 0.05 Accuracy score 93.92% recall score 93.92%\n",
      "\t learning_rate 0.1 Accuracy score 93.24% recall score 93.24%\n",
      "\t learning_rate 0.5 Accuracy score 91.22% recall score 91.22%\n",
      "\t learning_rate 1 Accuracy score 93.58% recall score 93.58%\n",
      "\t learning_rate 10 Accuracy score 81.76% recall score 81.76%\n",
      "\n",
      "\n"
     ]
    }
   ],
   "source": [
    "estimator_list = [10,50,100,200,400,500]\n",
    "learning_rate_list = [0.01,0.05,0.1,0.5,1,10]\n",
    "hyperparam_tuning_adaboosted_tree(x_data,y_data, estimator_list, learning_rate_list)"
   ]
  },
  {
   "cell_type": "code",
   "execution_count": 20,
   "metadata": {},
   "outputs": [
    {
     "name": "stdout",
     "output_type": "stream",
     "text": [
      "The accuracy and recall score of the adaboosted tree classfier is 93.60% and 93.60%\n"
     ]
    }
   ],
   "source": [
    "dtree = DecisionTreeClassifier(max_depth= 5, min_samples_split = 5, min_samples_leaf = 20)\n",
    "adabc = AdaBoostClassifier(base_estimator=dtree, n_estimators=100, learning_rate = 1)\n",
    "val_acc = []\n",
    "val_f1 = []\n",
    "kf = KFold(n_splits=5)\n",
    "for train_index, val_index in kf.split(x_data):\n",
    "    adabc.fit(x_data.iloc[train_index], y_data.iloc[train_index])\n",
    "    val_acc.append(adabc.score(x_data.iloc[val_index],y_data.iloc[val_index]))\n",
    "    y_pred_tree = adabc.predict(x_data.iloc[val_index])\n",
    "    val_f1.append(recall_score(y_data.iloc[val_index], y_pred_tree, average='micro'))\n",
    "accuracy = sum(val_acc)/len(val_acc)*100\n",
    "f1_score = sum(val_f1)/len(val_f1)*100\n",
    "print(\"The accuracy and recall score of the adaboosted tree classfier is {0:.2f}% and {1:.2f}%\".format(accuracy,f1_score))"
   ]
  },
  {
   "cell_type": "markdown",
   "metadata": {},
   "source": [
    "# Gradient Boosted Tree"
   ]
  },
  {
   "cell_type": "code",
   "execution_count": 21,
   "metadata": {},
   "outputs": [],
   "source": [
    "from sklearn.ensemble import GradientBoostingClassifier\n",
    "def hyperparam_tuning_gradientboosted_tree(x_data,y_data, estimators_list, learning_rate_list, min_split_list, min_leaf_list):\n",
    "    X_train, X_test, y_train, y_test = train_test_split(x_data, y_data, test_size= 0.3, random_state=123)\n",
    "    print(\"Metrics for number of estimator parameter\")\n",
    "    for estimators in estimators_list:\n",
    "        gbc = GradientBoostingClassifier(n_estimators = estimators)\n",
    "        gbc.fit(X_train,y_train)\n",
    "        acc = gbc.score(X_test,y_test)*100\n",
    "        y_pred = gbc.predict(X_test)\n",
    "        recall = recall_score(y_test, y_pred, average='micro')*100\n",
    "        print(\"\\t n_estimators {0} Accuracy score {1:.2f}% recall score {2:.2f}%\".format(estimators,acc,recall))\n",
    "    print(\"\\n\")\n",
    "    print(\"Metrics for learning rate parameter\")\n",
    "    for rate in learning_rate_list:\n",
    "        gbc = GradientBoostingClassifier(learning_rate = rate)\n",
    "        gbc.fit(X_train,y_train)\n",
    "        acc = gbc.score(X_test,y_test)*100\n",
    "        y_pred = gbc.predict(X_test)\n",
    "        recall = recall_score(y_test, y_pred, average='micro')*100\n",
    "        print(\"\\t learning_rate {0} Accuracy score {1:.2f}% recall score {2:.2f}%\".format(rate,acc,recall))\n",
    "    print(\"\\n\")\n",
    "    print(\"Metrics for minimum number of samples for spliting node parameter\")\n",
    "    for min_split in min_split_list:\n",
    "        gbc = GradientBoostingClassifier(min_samples_split = min_split)\n",
    "        gbc.fit(X_train,y_train)\n",
    "        acc = gbc.score(X_test,y_test)*100\n",
    "        y_pred = gbc.predict(X_test)\n",
    "        recall = recall_score(y_test, y_pred, average='micro')*100\n",
    "        print(\"\\t min_samples_split {0} Accuracy score {1:.2f}% recall score {2:.2f}%\".format(min_split,acc,recall))\n",
    "    print(\"\\n\")\n",
    "    print(\"Metrics for minimum number of samples for leaf node parameter\")\n",
    "    for min_leaf in min_leaf_list:\n",
    "        gbc = GradientBoostingClassifier(min_samples_leaf = min_leaf)\n",
    "        gbc.fit(X_train,y_train)\n",
    "        acc = gbc.score(X_test,y_test)*100\n",
    "        y_pred = gbc.predict(X_test)\n",
    "        recall = recall_score(y_test, y_pred, average='micro')*100\n",
    "        print(\"\\t min_samples_leaf {0} Accuracy score {1:.2f}% recall score {2:.2f}%\".format(min_leaf,acc,recall))"
   ]
  },
  {
   "cell_type": "code",
   "execution_count": 22,
   "metadata": {},
   "outputs": [
    {
     "name": "stdout",
     "output_type": "stream",
     "text": [
      "Metrics for number of estimator parameter\n",
      "\t n_estimators 10 Accuracy score 92.91% recall score 92.91%\n",
      "\t n_estimators 50 Accuracy score 93.24% recall score 93.24%\n",
      "\t n_estimators 100 Accuracy score 92.23% recall score 92.23%\n",
      "\t n_estimators 200 Accuracy score 92.23% recall score 92.23%\n",
      "\t n_estimators 400 Accuracy score 92.57% recall score 92.57%\n",
      "\t n_estimators 500 Accuracy score 92.23% recall score 92.23%\n",
      "\n",
      "\n",
      "Metrics for learning rate parameter\n",
      "\t learning_rate 0.01 Accuracy score 92.91% recall score 92.91%\n",
      "\t learning_rate 0.05 Accuracy score 93.24% recall score 93.24%\n",
      "\t learning_rate 0.1 Accuracy score 92.23% recall score 92.23%\n",
      "\t learning_rate 0.5 Accuracy score 92.57% recall score 92.57%\n",
      "\t learning_rate 1 Accuracy score 91.22% recall score 91.22%\n",
      "\t learning_rate 10 Accuracy score 52.03% recall score 52.03%\n",
      "\n",
      "\n",
      "Metrics for minimum number of samples for spliting node parameter\n",
      "\t min_samples_split 2 Accuracy score 91.89% recall score 91.89%\n",
      "\t min_samples_split 5 Accuracy score 93.24% recall score 93.24%\n",
      "\t min_samples_split 10 Accuracy score 93.58% recall score 93.58%\n",
      "\t min_samples_split 15 Accuracy score 93.58% recall score 93.58%\n",
      "\t min_samples_split 100 Accuracy score 92.57% recall score 92.57%\n",
      "\n",
      "\n",
      "Metrics for minimum number of samples for leaf node parameter\n",
      "\t min_samples_leaf 1 Accuracy score 91.89% recall score 91.89%\n",
      "\t min_samples_leaf 2 Accuracy score 92.91% recall score 92.91%\n",
      "\t min_samples_leaf 5 Accuracy score 92.57% recall score 92.57%\n",
      "\t min_samples_leaf 10 Accuracy score 93.24% recall score 93.24%\n",
      "\t min_samples_leaf 20 Accuracy score 93.24% recall score 93.24%\n",
      "\t min_samples_leaf 30 Accuracy score 93.24% recall score 93.24%\n",
      "\t min_samples_leaf 40 Accuracy score 92.57% recall score 92.57%\n"
     ]
    }
   ],
   "source": [
    "estimator_list = [10,50,100,200,400,500]\n",
    "learning_rate_list = [0.01,0.05,0.1,0.5,1,10]\n",
    "min_split_list = [2, 5, 10, 15, 100]\n",
    "min_leaf_list = [1, 2, 5, 10,20,30,40]\n",
    "hyperparam_tuning_gradientboosted_tree(x_data,y_data, estimator_list, learning_rate_list, min_split_list, min_leaf_list)"
   ]
  },
  {
   "cell_type": "code",
   "execution_count": 23,
   "metadata": {},
   "outputs": [
    {
     "name": "stdout",
     "output_type": "stream",
     "text": [
      "The accuracy and recall score of the gradient boosted tree classfier is 91.96% and 91.96%\n"
     ]
    }
   ],
   "source": [
    "from sklearn.ensemble import GradientBoostingClassifier\n",
    "gbc = GradientBoostingClassifier(n_estimators = 200, learning_rate = 0.1, min_samples_split = 2, min_samples_leaf = 2)\n",
    "val_acc = []\n",
    "val_f1 = []\n",
    "kf = KFold(n_splits=5)\n",
    "for train_index, val_index in kf.split(x_data):\n",
    "    gbc.fit(x_data.iloc[train_index], y_data.iloc[train_index])\n",
    "    val_acc.append(gbc.score(x_data.iloc[val_index],y_data.iloc[val_index]))\n",
    "    y_pred = gbc.predict(x_data.iloc[val_index])\n",
    "    val_f1.append(recall_score(y_data.iloc[val_index], y_pred, average='micro'))\n",
    "accuracy = sum(val_acc)/len(val_acc)*100\n",
    "f1_score = sum(val_f1)/len(val_f1)*100\n",
    "print(\"The accuracy and recall score of the gradient boosted tree classfier is {0:.2f}% and {1:.2f}%\".format(accuracy,f1_score))"
   ]
  },
  {
   "cell_type": "markdown",
   "metadata": {},
   "source": [
    "# XG Boosted Tree"
   ]
  },
  {
   "cell_type": "code",
   "execution_count": 24,
   "metadata": {},
   "outputs": [
    {
     "name": "stdout",
     "output_type": "stream",
     "text": [
      "The accuracy and recall score of the xgboost tree classfier is 94.11% and 94.11%\n"
     ]
    }
   ],
   "source": [
    "from xgboost import XGBClassifier\n",
    "val_acc = []\n",
    "val_f1 = []\n",
    "kf = KFold(n_splits=5)\n",
    "xgbc = XGBClassifier()\n",
    "for train_index, val_index in kf.split(x_data):\n",
    "    xgbc.fit(x_data.iloc[train_index], y_data.iloc[train_index])\n",
    "    val_acc.append(xgbc.score(x_data.iloc[val_index],y_data.iloc[val_index]))\n",
    "    y_pred = xgbc.predict(x_data.iloc[val_index])\n",
    "    val_f1.append(recall_score(y_data.iloc[val_index], y_pred, average='micro'))\n",
    "accuracy = sum(val_acc)/len(val_acc)*100\n",
    "f1_score = sum(val_f1)/len(val_f1)*100\n",
    "print(\"The accuracy and recall score of the xgboost tree classfier is {0:.2f}% and {1:.2f}%\".format(accuracy,f1_score))"
   ]
  },
  {
   "cell_type": "code",
   "execution_count": 25,
   "metadata": {},
   "outputs": [],
   "source": [
    "def hyperparam_tuning_xgboost_tree(x_data,y_data, depth_list, learning_rate_list, booster_list):\n",
    "    X_train, X_test, y_train, y_test = train_test_split(x_data, y_data, test_size= 0.3, random_state=123)\n",
    "    print(\"Metrics for max depth parameter\")\n",
    "    for depth in depth_list:\n",
    "        xgbc = XGBClassifier(max_depth = depth)\n",
    "        xgbc.fit(X_train,y_train)\n",
    "        acc = xgbc.score(X_test,y_test)*100\n",
    "        y_pred = xgbc.predict(X_test)\n",
    "        recall = recall_score(y_test, y_pred, average='micro')*100\n",
    "        print(\"\\t max depth {0} Accuracy score {1:.2f}% recall score {2:.2f}%\".format(depth,acc,recall))\n",
    "    print(\"\\n\")\n",
    "    print(\"Metrics for learning rate parameter\")\n",
    "    for rate in learning_rate_list:\n",
    "        xgbc = XGBClassifier(learning_rate = rate)\n",
    "        xgbc.fit(X_train,y_train)\n",
    "        acc = xgbc.score(X_test,y_test)*100\n",
    "        y_pred = xgbc.predict(X_test)\n",
    "        recall = recall_score(y_test, y_pred, average='micro')*100\n",
    "        print(\"\\t learning_rate {0} Accuracy score {1:.2f}% recall score {2:.2f}%\".format(rate,acc,recall))\n",
    "    print(\"\\n\")\n",
    "    print(\"Metrics for booster parameter\")\n",
    "    for boost in booster_list:\n",
    "        xgbc = XGBClassifier(booster = boost)\n",
    "        xgbc.fit(X_train,y_train)\n",
    "        acc = xgbc.score(X_test,y_test)*100\n",
    "        y_pred = xgbc.predict(X_test)\n",
    "        recall = recall_score(y_test, y_pred, average='micro')*100\n",
    "        print(\"\\t booster {0} Accuracy score {1:.2f}% recall score {2:.2f}%\".format(boost,acc,recall))\n",
    "    print(\"\\n\")"
   ]
  },
  {
   "cell_type": "code",
   "execution_count": 26,
   "metadata": {},
   "outputs": [
    {
     "name": "stdout",
     "output_type": "stream",
     "text": [
      "Metrics for max depth parameter\n",
      "\t max depth 1 Accuracy score 92.91% recall score 92.91%\n",
      "\t max depth 2 Accuracy score 92.57% recall score 92.57%\n",
      "\t max depth 5 Accuracy score 92.57% recall score 92.57%\n",
      "\t max depth 10 Accuracy score 92.57% recall score 92.57%\n",
      "\t max depth 15 Accuracy score 92.57% recall score 92.57%\n",
      "\t max depth 20 Accuracy score 92.57% recall score 92.57%\n",
      "\t max depth 25 Accuracy score 92.57% recall score 92.57%\n",
      "\t max depth None Accuracy score 92.91% recall score 92.91%\n",
      "\n",
      "\n",
      "Metrics for learning rate parameter\n",
      "\t learning_rate 0.01 Accuracy score 92.57% recall score 92.57%\n",
      "\t learning_rate 0.05 Accuracy score 93.58% recall score 93.58%\n",
      "\t learning_rate 0.1 Accuracy score 92.91% recall score 92.91%\n",
      "\t learning_rate 0.5 Accuracy score 92.57% recall score 92.57%\n",
      "\t learning_rate 1 Accuracy score 93.58% recall score 93.58%\n",
      "\t learning_rate 10 Accuracy score 52.03% recall score 52.03%\n",
      "\n",
      "\n",
      "Metrics for booster parameter\n",
      "\t booster gbtree Accuracy score 92.91% recall score 92.91%\n",
      "\t booster gblinear Accuracy score 94.59% recall score 94.59%\n",
      "\t booster dart Accuracy score 92.91% recall score 92.91%\n",
      "\n",
      "\n"
     ]
    }
   ],
   "source": [
    "depth_list = [1,2,5,10,15,20,25,None]\n",
    "learning_rate_list = [0.01,0.05,0.1,0.5,1,10]\n",
    "booster_list = [\"gbtree\", \"gblinear\", \"dart\"]\n",
    "hyperparam_tuning_xgboost_tree(x_data,y_data, depth_list, learning_rate_list, booster_list)"
   ]
  },
  {
   "cell_type": "code",
   "execution_count": 27,
   "metadata": {},
   "outputs": [
    {
     "name": "stdout",
     "output_type": "stream",
     "text": [
      "[19:55:43] WARNING: C:\\Users\\Administrator\\workspace\\xgboost-win64_release_1.1.0\\src\\learner.cc:480: \n",
      "Parameters: { max_depth } might not be used.\n",
      "\n",
      "  This may not be accurate due to some parameters are only used in language bindings but\n",
      "  passed down to XGBoost core.  Or some parameters are not used but slip through this\n",
      "  verification. Please open an issue if you find above cases.\n",
      "\n",
      "\n",
      "[19:55:43] WARNING: C:\\Users\\Administrator\\workspace\\xgboost-win64_release_1.1.0\\src\\learner.cc:480: \n",
      "Parameters: { max_depth } might not be used.\n",
      "\n",
      "  This may not be accurate due to some parameters are only used in language bindings but\n",
      "  passed down to XGBoost core.  Or some parameters are not used but slip through this\n",
      "  verification. Please open an issue if you find above cases.\n",
      "\n",
      "\n",
      "[19:55:43] WARNING: C:\\Users\\Administrator\\workspace\\xgboost-win64_release_1.1.0\\src\\learner.cc:480: \n",
      "Parameters: { max_depth } might not be used.\n",
      "\n",
      "  This may not be accurate due to some parameters are only used in language bindings but\n",
      "  passed down to XGBoost core.  Or some parameters are not used but slip through this\n",
      "  verification. Please open an issue if you find above cases.\n",
      "\n",
      "\n",
      "[19:55:43] WARNING: C:\\Users\\Administrator\\workspace\\xgboost-win64_release_1.1.0\\src\\learner.cc:480: \n",
      "Parameters: { max_depth } might not be used.\n",
      "\n",
      "  This may not be accurate due to some parameters are only used in language bindings but\n",
      "  passed down to XGBoost core.  Or some parameters are not used but slip through this\n",
      "  verification. Please open an issue if you find above cases.\n",
      "\n",
      "\n",
      "[19:55:43] WARNING: C:\\Users\\Administrator\\workspace\\xgboost-win64_release_1.1.0\\src\\learner.cc:480: \n",
      "Parameters: { max_depth } might not be used.\n",
      "\n",
      "  This may not be accurate due to some parameters are only used in language bindings but\n",
      "  passed down to XGBoost core.  Or some parameters are not used but slip through this\n",
      "  verification. Please open an issue if you find above cases.\n",
      "\n",
      "\n",
      "The accuracy and recall score of the xgboost tree classfier is 94.21% and 94.21%\n"
     ]
    }
   ],
   "source": [
    "val_acc = []\n",
    "val_f1 = []\n",
    "kf = KFold(n_splits=5)\n",
    "xgbc = XGBClassifier(max_depth = 2, learning_rate = 0.05, booster = \"gblinear\")\n",
    "for train_index, val_index in kf.split(x_data):\n",
    "    xgbc.fit(x_data.iloc[train_index], y_data.iloc[train_index])\n",
    "    val_acc.append(xgbc.score(x_data.iloc[val_index],y_data.iloc[val_index]))\n",
    "    y_pred = xgbc.predict(x_data.iloc[val_index])\n",
    "    val_f1.append(recall_score(y_data.iloc[val_index], y_pred, average='micro'))\n",
    "accuracy = sum(val_acc)/len(val_acc)*100\n",
    "f1_score = sum(val_f1)/len(val_f1)*100\n",
    "print(\"The accuracy and recall score of the xgboost tree classfier is {0:.2f}% and {1:.2f}%\".format(accuracy,f1_score))"
   ]
  },
  {
   "cell_type": "markdown",
   "metadata": {},
   "source": [
    "# LightGBM Classifier"
   ]
  },
  {
   "cell_type": "code",
   "execution_count": 28,
   "metadata": {},
   "outputs": [
    {
     "name": "stdout",
     "output_type": "stream",
     "text": [
      "The accuracy and recall score of the lightgbm classfier is 94.00% and 94.00%\n"
     ]
    }
   ],
   "source": [
    "from lightgbm import LGBMClassifier\n",
    "val_acc = []\n",
    "val_f1 = []\n",
    "kf = KFold(n_splits=5)\n",
    "lgbc = LGBMClassifier(n_estimators = 100)\n",
    "for train_index, val_index in kf.split(x_data):\n",
    "    lgbc.fit(x_data.iloc[train_index], y_data.iloc[train_index])\n",
    "    val_acc.append(lgbc.score(x_data.iloc[val_index],y_data.iloc[val_index]))\n",
    "    y_pred = lgbc.predict(x_data.iloc[val_index])\n",
    "    val_f1.append(recall_score(y_data.iloc[val_index], y_pred, average='micro'))\n",
    "accuracy = sum(val_acc)/len(val_acc)*100\n",
    "f1_score = sum(val_f1)/len(val_f1)*100\n",
    "print(\"The accuracy and recall score of the lightgbm classfier is {0:.2f}% and {1:.2f}%\".format(accuracy,f1_score))"
   ]
  },
  {
   "cell_type": "code",
   "execution_count": 31,
   "metadata": {},
   "outputs": [],
   "source": [
    "def hyperparam_tuning_lightgbm_tree(x_data,y_data, estimators_list, depth_list, learning_rate_list, num_leaves_list):\n",
    "    X_train, X_test, y_train, y_test = train_test_split(x_data, y_data, test_size= 0.3, random_state=123)\n",
    "    print(\"Metrics for number of estimators parameter\")\n",
    "    for estimators in estimators_list:\n",
    "        lgbc = LGBMClassifier(n_estimators = estimators)\n",
    "        lgbc.fit(X_train,y_train)\n",
    "        acc = lgbc.score(X_test,y_test)*100\n",
    "        y_pred = lgbc.predict(X_test)\n",
    "        recall = recall_score(y_test, y_pred, average='micro')*100\n",
    "        print(\"\\t n_estimators {0} Accuracy score {1:.2f}% recall score {2:.2f}%\".format(estimators,acc,recall))\n",
    "    print(\"\\n\")\n",
    "    print(\"Metrics for max depth parameter\")\n",
    "    for depth in depth_list:\n",
    "        lgbc = LGBMClassifier(max_depth = depth)\n",
    "        lgbc.fit(X_train,y_train)\n",
    "        acc = lgbc.score(X_test,y_test)*100\n",
    "        y_pred = lgbc.predict(X_test)\n",
    "        recall = recall_score(y_test, y_pred, average='micro')*100\n",
    "        print(\"\\t max depth {0} Accuracy score {1:.2f}% recall score {2:.2f}%\".format(depth,acc,recall))\n",
    "    print(\"\\n\")\n",
    "    print(\"Metrics for learning rate parameter\")\n",
    "    for rate in learning_rate_list:\n",
    "        lgbc = LGBMClassifier(learning_rate = rate)\n",
    "        lgbc.fit(X_train,y_train)\n",
    "        acc = lgbc.score(X_test,y_test)*100\n",
    "        y_pred = lgbc.predict(X_test)\n",
    "        recall = recall_score(y_test, y_pred, average='micro')*100\n",
    "        print(\"\\t learning_rate {0} Accuracy score {1:.2f}% recall score {2:.2f}%\".format(rate,acc,recall))\n",
    "    print(\"\\n\")\n",
    "    print(\"Metrics for num of leaves parameter\")\n",
    "    for leaves in num_leaves_list:\n",
    "        lgbc = LGBMClassifier(num_leaves = leaves)\n",
    "        lgbc.fit(X_train,y_train)\n",
    "        acc = lgbc.score(X_test,y_test)*100\n",
    "        y_pred = lgbc.predict(X_test)\n",
    "        recall = recall_score(y_test, y_pred, average='micro')*100\n",
    "        print(\"\\t num_leaves {0} Accuracy score {1:.2f}% recall score {2:.2f}%\".format(leaves,acc,recall))\n",
    "    print(\"\\n\")"
   ]
  },
  {
   "cell_type": "code",
   "execution_count": 32,
   "metadata": {},
   "outputs": [
    {
     "name": "stdout",
     "output_type": "stream",
     "text": [
      "Metrics for number of estimators parameter\n",
      "\t n_estimators 10 Accuracy score 93.92% recall score 93.92%\n",
      "\t n_estimators 50 Accuracy score 93.24% recall score 93.24%\n",
      "\t n_estimators 100 Accuracy score 93.24% recall score 93.24%\n",
      "\t n_estimators 200 Accuracy score 92.91% recall score 92.91%\n",
      "\t n_estimators 400 Accuracy score 92.57% recall score 92.57%\n",
      "\t n_estimators 500 Accuracy score 92.57% recall score 92.57%\n",
      "\n",
      "\n",
      "Metrics for max depth parameter\n",
      "\t max depth 1 Accuracy score 93.92% recall score 93.92%\n",
      "\t max depth 2 Accuracy score 93.24% recall score 93.24%\n",
      "\t max depth 5 Accuracy score 92.91% recall score 92.91%\n",
      "\t max depth 10 Accuracy score 92.91% recall score 92.91%\n",
      "\t max depth 15 Accuracy score 93.24% recall score 93.24%\n",
      "\t max depth 20 Accuracy score 93.24% recall score 93.24%\n",
      "\t max depth 25 Accuracy score 93.24% recall score 93.24%\n",
      "\t max depth None Accuracy score 93.24% recall score 93.24%\n",
      "\n",
      "\n",
      "Metrics for learning rate parameter\n",
      "\t learning_rate 0.01 Accuracy score 94.26% recall score 94.26%\n",
      "\t learning_rate 0.05 Accuracy score 93.24% recall score 93.24%\n",
      "\t learning_rate 0.1 Accuracy score 93.24% recall score 93.24%\n",
      "\t learning_rate 0.5 Accuracy score 92.91% recall score 92.91%\n",
      "\t learning_rate 1 Accuracy score 93.24% recall score 93.24%\n",
      "\t learning_rate 10 Accuracy score 84.12% recall score 84.12%\n",
      "\n",
      "\n",
      "Metrics for num of leaves parameter\n",
      "\t num_leaves 10 Accuracy score 92.91% recall score 92.91%\n",
      "\t num_leaves 20 Accuracy score 92.91% recall score 92.91%\n",
      "\t num_leaves 30 Accuracy score 93.24% recall score 93.24%\n",
      "\t num_leaves 40 Accuracy score 93.24% recall score 93.24%\n",
      "\t num_leaves 50 Accuracy score 93.24% recall score 93.24%\n",
      "\t num_leaves 60 Accuracy score 93.24% recall score 93.24%\n",
      "\n",
      "\n"
     ]
    }
   ],
   "source": [
    "depth_list = [1,2,5,10,15,20,25,None]\n",
    "learning_rate_list = [0.01,0.05,0.1,0.5,1,10]\n",
    "num_leaves_list = [10,20,30,40,50,60]\n",
    "estimator_list = [10,50,100,200,400,500]\n",
    "hyperparam_tuning_lightgbm_tree(x_data,y_data, estimator_list, depth_list, learning_rate_list, num_leaves_list)"
   ]
  },
  {
   "cell_type": "code",
   "execution_count": 40,
   "metadata": {},
   "outputs": [
    {
     "name": "stdout",
     "output_type": "stream",
     "text": [
      "The accuracy and recall score of the lightGbm tree classfier is 94.11% and 94.11%\n"
     ]
    }
   ],
   "source": [
    "val_acc = []\n",
    "val_f1 = []\n",
    "kf = KFold(n_splits=5)\n",
    "lgbc = LGBMClassifier(n_estimators = 100, max_depth = 2, learning_rate = 0.05, num_leaves = 20)\n",
    "for train_index, val_index in kf.split(x_data):\n",
    "    lgbc.fit(x_data.iloc[train_index], y_data.iloc[train_index])\n",
    "    val_acc.append(lgbc.score(x_data.iloc[val_index],y_data.iloc[val_index]))\n",
    "    y_pred = lgbc.predict(x_data.iloc[val_index])\n",
    "    val_f1.append(recall_score(y_data.iloc[val_index], y_pred, average='micro'))\n",
    "accuracy = sum(val_acc)/len(val_acc)*100\n",
    "f1_score = sum(val_f1)/len(val_f1)*100\n",
    "print(\"The accuracy and recall score of the lightGbm tree classfier is {0:.2f}% and {1:.2f}%\".format(accuracy,f1_score))"
   ]
  },
  {
   "cell_type": "markdown",
   "metadata": {},
   "source": [
    "# Random Forest VS XGBoost Tree"
   ]
  },
  {
   "cell_type": "code",
   "execution_count": 67,
   "metadata": {},
   "outputs": [],
   "source": [
    "#Bias Variance Curve for Random Forest\n",
    "test_size_list = [0.99,0.8,0.7,0.5,0.4,0.3,0.2]\n",
    "training_set_size=[]\n",
    "train_acc=[]\n",
    "test_acc=[]\n",
    "for test_size in test_size_list:\n",
    "    X_train, X_test, y_train, y_test = train_test_split(x_data, y_data, test_size= test_size, random_state=123)\n",
    "    rf = RandomForestClassifier(n_estimators = 200,max_depth= 15, min_samples_split = 10, min_samples_leaf = 5)\n",
    "    rf.fit(X_train,y_train)\n",
    "    train_acc.append(rf.score(X_train,y_train))\n",
    "    test_acc.append(rf.score(X_test,y_test))\n",
    "    training_set_size.append(len(X_train))"
   ]
  },
  {
   "cell_type": "code",
   "execution_count": 68,
   "metadata": {},
   "outputs": [
    {
     "data": {
      "image/png": "[encoded data removed]",
      "text/plain": [
       "<Figure size 576x432 with 1 Axes>"
      ]
     },
     "metadata": {},
     "output_type": "display_data"
    }
   ],
   "source": [
    "import matplotlib.patches as mpatches\n",
    "plt.figure(figsize=(8,6))\n",
    "plt.style.use('seaborn')\n",
    "plt.plot(training_set_size, train_acc, color = \"blue\") \n",
    "plt.plot(training_set_size, test_acc, color = \"green\") \n",
    "plt.xlabel(\"Training Set\") \n",
    "plt.ylabel(\"Accuracy\")\n",
    "trainlegend = mpatches.Patch(color='blue', label='Train Accuracy')\n",
    "testlegend = mpatches.Patch(color='green', label='Test Accuracy')\n",
    "plt.legend([trainlegend, testlegend], ['Train Accuracy', 'Test Accuracy'])\n",
    "plt.show() "
   ]
  },
  {
   "cell_type": "code",
   "execution_count": 69,
   "metadata": {},
   "outputs": [
    {
     "name": "stdout",
     "output_type": "stream",
     "text": [
      "[21:34:55] WARNING: C:\\Users\\Administrator\\workspace\\xgboost-win64_release_1.1.0\\src\\learner.cc:480: \n",
      "Parameters: { max_depth } might not be used.\n",
      "\n",
      "  This may not be accurate due to some parameters are only used in language bindings but\n",
      "  passed down to XGBoost core.  Or some parameters are not used but slip through this\n",
      "  verification. Please open an issue if you find above cases.\n",
      "\n",
      "\n",
      "[21:34:55] WARNING: C:\\Users\\Administrator\\workspace\\xgboost-win64_release_1.1.0\\src\\learner.cc:480: \n",
      "Parameters: { max_depth } might not be used.\n",
      "\n",
      "  This may not be accurate due to some parameters are only used in language bindings but\n",
      "  passed down to XGBoost core.  Or some parameters are not used but slip through this\n",
      "  verification. Please open an issue if you find above cases.\n",
      "\n",
      "\n",
      "[21:34:55] WARNING: C:\\Users\\Administrator\\workspace\\xgboost-win64_release_1.1.0\\src\\learner.cc:480: \n",
      "Parameters: { max_depth } might not be used.\n",
      "\n",
      "  This may not be accurate due to some parameters are only used in language bindings but\n",
      "  passed down to XGBoost core.  Or some parameters are not used but slip through this\n",
      "  verification. Please open an issue if you find above cases.\n",
      "\n",
      "\n",
      "[21:34:55] WARNING: C:\\Users\\Administrator\\workspace\\xgboost-win64_release_1.1.0\\src\\learner.cc:480: \n",
      "Parameters: { max_depth } might not be used.\n",
      "\n",
      "  This may not be accurate due to some parameters are only used in language bindings but\n",
      "  passed down to XGBoost core.  Or some parameters are not used but slip through this\n",
      "  verification. Please open an issue if you find above cases.\n",
      "\n",
      "\n",
      "[21:34:55] WARNING: C:\\Users\\Administrator\\workspace\\xgboost-win64_release_1.1.0\\src\\learner.cc:480: \n",
      "Parameters: { max_depth } might not be used.\n",
      "\n",
      "  This may not be accurate due to some parameters are only used in language bindings but\n",
      "  passed down to XGBoost core.  Or some parameters are not used but slip through this\n",
      "  verification. Please open an issue if you find above cases.\n",
      "\n",
      "\n",
      "[21:34:55] WARNING: C:\\Users\\Administrator\\workspace\\xgboost-win64_release_1.1.0\\src\\learner.cc:480: \n",
      "Parameters: { max_depth } might not be used.\n",
      "\n",
      "  This may not be accurate due to some parameters are only used in language bindings but\n",
      "  passed down to XGBoost core.  Or some parameters are not used but slip through this\n",
      "  verification. Please open an issue if you find above cases.\n",
      "\n",
      "\n",
      "[21:34:55] WARNING: C:\\Users\\Administrator\\workspace\\xgboost-win64_release_1.1.0\\src\\learner.cc:480: \n",
      "Parameters: { max_depth } might not be used.\n",
      "\n",
      "  This may not be accurate due to some parameters are only used in language bindings but\n",
      "  passed down to XGBoost core.  Or some parameters are not used but slip through this\n",
      "  verification. Please open an issue if you find above cases.\n",
      "\n",
      "\n"
     ]
    }
   ],
   "source": [
    "#Bias Variance Curve for XGboosted Tree\n",
    "test_size_list = [0.99,0.8,0.7,0.5,0.4,0.3,0.2]\n",
    "training_set_size=[]\n",
    "train_acc=[]\n",
    "test_acc=[]\n",
    "for test_size in test_size_list:\n",
    "    X_train, X_test, y_train, y_test = train_test_split(x_data, y_data, test_size= test_size, random_state=123)\n",
    "    xgbc = XGBClassifier(max_depth = 2, learning_rate = 0.05, booster = \"gblinear\")\n",
    "    xgbc.fit(X_train,y_train)\n",
    "    train_acc.append(xgbc.score(X_train,y_train))\n",
    "    test_acc.append(xgbc.score(X_test,y_test))\n",
    "    training_set_size.append(len(X_train))"
   ]
  },
  {
   "cell_type": "code",
   "execution_count": 70,
   "metadata": {},
   "outputs": [
    {
     "data": {
      "image/png": "[encoded data removed]",
      "text/plain": [
       "<Figure size 576x432 with 1 Axes>"
      ]
     },
     "metadata": {},
     "output_type": "display_data"
    }
   ],
   "source": [
    "import matplotlib.patches as mpatches\n",
    "plt.figure(figsize=(8,6))\n",
    "plt.style.use('seaborn')\n",
    "plt.plot(training_set_size, train_acc, color = \"blue\") \n",
    "plt.plot(training_set_size, test_acc, color = \"green\") \n",
    "plt.xlabel(\"Training Set\") \n",
    "plt.ylabel(\"Accuracy\")\n",
    "trainlegend = mpatches.Patch(color='blue', label='Train Accuracy')\n",
    "testlegend = mpatches.Patch(color='green', label='Test Accuracy')\n",
    "plt.legend([trainlegend, testlegend], ['Train Accuracy', 'Test Accuracy'])\n",
    "plt.show() "
   ]
  },
  {
   "cell_type": "code",
   "execution_count": 71,
   "metadata": {},
   "outputs": [
    {
     "name": "stdout",
     "output_type": "stream",
     "text": [
      "X shape and y shape =(284807, 30) , (284807,)\n"
     ]
    }
   ],
   "source": [
    "x_data_whole = df.drop(['Class'], axis =1)\n",
    "y_data_whole = df['Class']\n",
    "print(\"X shape and y shape =\" + str(x_data_whole.shape) + \" , \" + str(y_data_whole.shape))"
   ]
  },
  {
   "cell_type": "code",
   "execution_count": 72,
   "metadata": {},
   "outputs": [
    {
     "name": "stdout",
     "output_type": "stream",
     "text": [
      "                precision    recall  f1-score   support\n",
      "\n",
      "Non Fraudulent       1.00      1.00      1.00    199012\n",
      "    Fraudulent       0.88      0.76      0.81       353\n",
      "\n",
      "      accuracy                           1.00    199365\n",
      "     macro avg       0.94      0.88      0.91    199365\n",
      "  weighted avg       1.00      1.00      1.00    199365\n",
      "\n"
     ]
    }
   ],
   "source": [
    "X_train, X_test, y_train, y_test = train_test_split(x_data_whole, y_data_whole, test_size= 0.7, random_state=123)\n",
    "rf = RandomForestClassifier(n_estimators = 200,max_depth= 15, min_samples_split = 10, min_samples_leaf = 5)\n",
    "rf.fit(X_train,y_train)\n",
    "y_pred = rf.predict(X_test)\n",
    "target_names = ['Non Fraudulent', 'Fraudulent']\n",
    "print(classification_report(y_test, y_pred, target_names=target_names))"
   ]
  },
  {
   "cell_type": "code",
   "execution_count": 73,
   "metadata": {},
   "outputs": [
    {
     "name": "stdout",
     "output_type": "stream",
     "text": [
      "[21:36:39] WARNING: C:\\Users\\Administrator\\workspace\\xgboost-win64_release_1.1.0\\src\\learner.cc:480: \n",
      "Parameters: { max_depth } might not be used.\n",
      "\n",
      "  This may not be accurate due to some parameters are only used in language bindings but\n",
      "  passed down to XGBoost core.  Or some parameters are not used but slip through this\n",
      "  verification. Please open an issue if you find above cases.\n",
      "\n",
      "\n",
      "                precision    recall  f1-score   support\n",
      "\n",
      "Non Fraudulent       1.00      1.00      1.00    199012\n",
      "    Fraudulent       0.83      0.63      0.72       353\n",
      "\n",
      "      accuracy                           1.00    199365\n",
      "     macro avg       0.92      0.81      0.86    199365\n",
      "  weighted avg       1.00      1.00      1.00    199365\n",
      "\n"
     ]
    }
   ],
   "source": [
    "X_train, X_test, y_train, y_test = train_test_split(x_data_whole, y_data_whole, test_size= 0.7, random_state=123)\n",
    "xgbc = XGBClassifier(max_depth = 2, learning_rate = 0.05, booster = \"gblinear\")\n",
    "xgbc.fit(X_train,y_train)\n",
    "y_pred = xgbc.predict(X_test)\n",
    "target_names = ['Non Fraudulent', 'Fraudulent']\n",
    "print(classification_report(y_test, y_pred, target_names=target_names))"
   ]
  },
  {
   "cell_type": "code",
   "execution_count": null,
   "metadata": {},
   "outputs": [],
   "source": []
  }
 ],
 "metadata": {
  "kernelspec": {
   "display_name": "Python 3",
   "language": "python",
   "name": "python3"
  },
  "language_info": {
   "codemirror_mode": {
    "name": "ipython",
    "version": 3
   },
   "file_extension": ".py",
   "mimetype": "text/x-python",
   "name": "python",
   "nbconvert_exporter": "python",
   "pygments_lexer": "ipython3",
   "version": "3.7.3"
  }
 },
 "nbformat": 4,
 "nbformat_minor": 2
}
